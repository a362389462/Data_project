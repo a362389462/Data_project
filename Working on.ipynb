{
 "metadata": {
  "language_info": {
   "codemirror_mode": {
    "name": "ipython",
    "version": 3
   },
   "file_extension": ".py",
   "mimetype": "text/x-python",
   "name": "python",
   "nbconvert_exporter": "python",
   "pygments_lexer": "ipython3",
   "version": "3.8.8"
  },
  "orig_nbformat": 4,
  "kernelspec": {
   "name": "python3",
   "display_name": "Python 3.8.8 64-bit ('base': conda)"
  },
  "interpreter": {
   "hash": "125590aa41602ed31092bb2219a36077c9c2d37f9112d7794a99d50ebb62750f"
  }
 },
 "nbformat": 4,
 "nbformat_minor": 2,
 "cells": [
  {
   "source": [
    "# Uber Data Project\n",
    "# Analyse by Qinhao/a362389462\n",
    "Welcome to Uber Data Project for May 2014. I found this data set on Kaggle, and I think this data set, first of all, is easy to analyze and has clear coordinates. Secondly, because I don't have a car, I often take Uber, so I have a strong interest in this data. Although this data set may be a little outdated, I think it still produces a number of interesting phenomena "
   ],
   "cell_type": "markdown",
   "metadata": {}
  },
  {
   "source": [
    "# All the stuffs start here!"
   ],
   "cell_type": "markdown",
   "metadata": {}
  },
  {
   "cell_type": "code",
   "execution_count": 1,
   "metadata": {},
   "outputs": [],
   "source": [
    "import matplotlib\n",
    "import matplotlib.pyplot as plt\n",
    "import numpy as np\n",
    "import pandas as pd\n",
    "import os\n",
    "from datetime import datetime"
   ]
  },
  {
   "cell_type": "code",
   "execution_count": 2,
   "metadata": {},
   "outputs": [],
   "source": [
    "%matplotlib inline"
   ]
  },
  {
   "cell_type": "code",
   "execution_count": 3,
   "metadata": {},
   "outputs": [],
   "source": [
    "plt.rcParams['figure.figsize'] = (10, 5)"
   ]
  },
  {
   "cell_type": "code",
   "execution_count": 4,
   "metadata": {},
   "outputs": [],
   "source": [
    "saved_style_state = matplotlib.rcParams.copy() #give us a style state to go back to"
   ]
  },
  {
   "source": [
    "#  Input/load our dataset here"
   ],
   "cell_type": "markdown",
   "metadata": {}
  },
  {
   "cell_type": "code",
   "execution_count": 5,
   "metadata": {},
   "outputs": [
    {
     "output_type": "stream",
     "name": "stdout",
     "text": [
      "loading from file\n",
      "done\n"
     ]
    }
   ],
   "source": [
    "if os.path.isfile(\"uber-raw-data-may14.csv\"):\n",
    "    filepath = \"uber-raw-data-may14.csv\"\n",
    "    print(\"loading from file\")\n",
    "else:\n",
    "    filepath = \"https://github.com/fivethirtyeight/uber-tlc-foil-response/blob/master/uber-trip-data/uber-raw-data-may14.csv\"\n",
    "    print(\"loading from the internet\")\n",
    "\n",
    "penalty_data = pd.read_csv(filepath)\n",
    "\n",
    "print(\"done\")"
   ]
  },
  {
   "source": [
    "# We could just take a overlook to this lovely dataset, totally 652435 rows and 4 columns. It is a raw dataset cause we could not get the correct data because of privacy."
   ],
   "cell_type": "markdown",
   "metadata": {}
  },
  {
   "cell_type": "code",
   "execution_count": 6,
   "metadata": {},
   "outputs": [
    {
     "output_type": "execute_result",
     "data": {
      "text/plain": [
       "                 Date/Time      Lat      Lon    Base\n",
       "0         5/1/2014 0:02:00  40.7521 -73.9914  B02512\n",
       "1         5/1/2014 0:06:00  40.6965 -73.9715  B02512\n",
       "2         5/1/2014 0:15:00  40.7464 -73.9838  B02512\n",
       "3         5/1/2014 0:17:00  40.7463 -74.0011  B02512\n",
       "4         5/1/2014 0:17:00  40.7594 -73.9734  B02512\n",
       "...                    ...      ...      ...     ...\n",
       "652430  5/31/2014 23:45:00  40.7309 -74.0014  B02764\n",
       "652431  5/31/2014 23:52:00  40.7528 -73.9798  B02764\n",
       "652432  5/31/2014 23:55:00  40.7158 -73.9519  B02764\n",
       "652433  5/31/2014 23:56:00  40.6961 -73.8997  B02764\n",
       "652434  5/31/2014 23:59:00  40.7393 -73.9919  B02764\n",
       "\n",
       "[652435 rows x 4 columns]"
      ],
      "text/html": "<div>\n<style scoped>\n    .dataframe tbody tr th:only-of-type {\n        vertical-align: middle;\n    }\n\n    .dataframe tbody tr th {\n        vertical-align: top;\n    }\n\n    .dataframe thead th {\n        text-align: right;\n    }\n</style>\n<table border=\"1\" class=\"dataframe\">\n  <thead>\n    <tr style=\"text-align: right;\">\n      <th></th>\n      <th>Date/Time</th>\n      <th>Lat</th>\n      <th>Lon</th>\n      <th>Base</th>\n    </tr>\n  </thead>\n  <tbody>\n    <tr>\n      <th>0</th>\n      <td>5/1/2014 0:02:00</td>\n      <td>40.7521</td>\n      <td>-73.9914</td>\n      <td>B02512</td>\n    </tr>\n    <tr>\n      <th>1</th>\n      <td>5/1/2014 0:06:00</td>\n      <td>40.6965</td>\n      <td>-73.9715</td>\n      <td>B02512</td>\n    </tr>\n    <tr>\n      <th>2</th>\n      <td>5/1/2014 0:15:00</td>\n      <td>40.7464</td>\n      <td>-73.9838</td>\n      <td>B02512</td>\n    </tr>\n    <tr>\n      <th>3</th>\n      <td>5/1/2014 0:17:00</td>\n      <td>40.7463</td>\n      <td>-74.0011</td>\n      <td>B02512</td>\n    </tr>\n    <tr>\n      <th>4</th>\n      <td>5/1/2014 0:17:00</td>\n      <td>40.7594</td>\n      <td>-73.9734</td>\n      <td>B02512</td>\n    </tr>\n    <tr>\n      <th>...</th>\n      <td>...</td>\n      <td>...</td>\n      <td>...</td>\n      <td>...</td>\n    </tr>\n    <tr>\n      <th>652430</th>\n      <td>5/31/2014 23:45:00</td>\n      <td>40.7309</td>\n      <td>-74.0014</td>\n      <td>B02764</td>\n    </tr>\n    <tr>\n      <th>652431</th>\n      <td>5/31/2014 23:52:00</td>\n      <td>40.7528</td>\n      <td>-73.9798</td>\n      <td>B02764</td>\n    </tr>\n    <tr>\n      <th>652432</th>\n      <td>5/31/2014 23:55:00</td>\n      <td>40.7158</td>\n      <td>-73.9519</td>\n      <td>B02764</td>\n    </tr>\n    <tr>\n      <th>652433</th>\n      <td>5/31/2014 23:56:00</td>\n      <td>40.6961</td>\n      <td>-73.8997</td>\n      <td>B02764</td>\n    </tr>\n    <tr>\n      <th>652434</th>\n      <td>5/31/2014 23:59:00</td>\n      <td>40.7393</td>\n      <td>-73.9919</td>\n      <td>B02764</td>\n    </tr>\n  </tbody>\n</table>\n<p>652435 rows × 4 columns</p>\n</div>"
     },
     "metadata": {},
     "execution_count": 6
    }
   ],
   "source": [
    "penalty_data"
   ]
  }
 ]
}