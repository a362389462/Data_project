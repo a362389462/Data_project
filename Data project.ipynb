{
 "cells": [
  {
   "cell_type": "markdown",
   "source": [
    "# Uber Picking Up in New York Analysis"
   ],
   "metadata": {}
  },
  {
   "cell_type": "markdown",
   "source": [
    "## Zhang Qinhao - z5263046"
   ],
   "metadata": {}
  },
  {
   "cell_type": "markdown",
   "source": [
    "# 1. Introduction:"
   ],
   "metadata": {}
  },
  {
   "cell_type": "markdown",
   "source": [
    "The main source of this data analysis is the Uber data provided by Data.world. I chose this set of data for my research because of the rising cost of living and the busy urban traffic. Uber needs to arrange the driver's area and time more reasonably, so I chose this set of data to have a positive impact on Uber and passengers."
   ],
   "metadata": {}
  },
  {
   "cell_type": "markdown",
   "source": [
    "### 2. Imprting necessary module and dataset"
   ],
   "metadata": {}
  },
  {
   "cell_type": "code",
   "execution_count": null,
   "source": [
    "import numpy as np\r\n",
    "import pandas as pd\r\n",
    "import seaborn as sns\r\n",
    "import matplotlib.pyplot as plt\r\n",
    "import matplotlib.mlab as mlab\r\n",
    "import warnings; warnings.simplefilter('ignore')\r\n",
    "from matplotlib import style\r\n",
    "%matplotlib inline"
   ],
   "outputs": [],
   "metadata": {}
  },
  {
   "cell_type": "code",
   "execution_count": null,
   "source": [
    "if os.path.isfile(\"uber-raw-data-may14.csv\"):\r\n",
    "    filepath = \"uber-raw-data-may14.csv\"\r\n",
    "    print(\"loading from file\")\r\n",
    "else:\r\n",
    "    filepath = \"https://github.com/fivethirtyeight/uber-tlc-foil-response/blob/master/uber-trip-data/uber-raw-data-may14.csv\"\r\n",
    "    print(\"loading from the internet\")\r\n",
    "\r\n",
    "uber_df = pd.read_csv(filepath)\r\n",
    "\r\n",
    "print(\"done\")"
   ],
   "outputs": [],
   "metadata": {}
  },
  {
   "cell_type": "markdown",
   "source": [
    "### 3. Data cleaning"
   ],
   "metadata": {}
  },
  {
   "cell_type": "markdown",
   "source": [
    "#### We could just take a overlook to this lovely dataset, totally 652435 rows and 4 columns. It is a raw dataset cause we could not get the correct data because of privacy."
   ],
   "metadata": {}
  },
  {
   "cell_type": "code",
   "execution_count": null,
   "source": [
    "uber_df"
   ],
   "outputs": [],
   "metadata": {}
  },
  {
   "cell_type": "code",
   "execution_count": null,
   "source": [
    "uber_df.tail()"
   ],
   "outputs": [],
   "metadata": {}
  },
  {
   "cell_type": "markdown",
   "source": [
    "Checking the information of dataset"
   ],
   "metadata": {}
  },
  {
   "cell_type": "code",
   "execution_count": null,
   "source": [
    "uber_df.info()"
   ],
   "outputs": [],
   "metadata": {}
  },
  {
   "cell_type": "code",
   "execution_count": null,
   "source": [
    "type(uber_df)"
   ],
   "outputs": [],
   "metadata": {}
  },
  {
   "cell_type": "markdown",
   "source": [
    "Setting the date time to the index "
   ],
   "metadata": {}
  },
  {
   "cell_type": "code",
   "execution_count": null,
   "source": [
    "uber_df.set_index(uber_df['Date/Time'],inplace = True)\r\n",
    "uber_df.index = pd.to_datetime(uber_df.index)\r\n",
    "del uber_df['Date/Time']\r\n",
    "uber_df.head()"
   ],
   "outputs": [],
   "metadata": {}
  },
  {
   "cell_type": "markdown",
   "source": [
    "Splitting the datetime into other different columns for processing data easily"
   ],
   "metadata": {}
  },
  {
   "cell_type": "code",
   "execution_count": null,
   "source": [
    "uber_df['Date'] = uber_df.index.day\r\n",
    "uber_df['Weekday'] = uber_df.index.weekday\r\n",
    "uber_df['Hour'] = uber_df.index.hour\r\n",
    "uber_df['Minute'] = uber_df.index.minute\r\n",
    "uber_df.head()"
   ],
   "outputs": [],
   "metadata": {}
  },
  {
   "cell_type": "markdown",
   "source": [
    "### 4. Data Visualization"
   ],
   "metadata": {}
  },
  {
   "cell_type": "markdown",
   "source": [
    "# a. Uber Daily Statistics"
   ],
   "metadata": {}
  },
  {
   "cell_type": "markdown",
   "source": [
    "First, we calculate the daily Uber usage in mid-May, and then draw a line chart according to the daily usage to reflect the trend of Uber vehicle change. Next, use the 5-day moving average as a trend to see the changes in Uber usage in May. "
   ],
   "metadata": {}
  },
  {
   "cell_type": "code",
   "execution_count": null,
   "source": [
    "Date_lists = list(uber_df['Date'])\r\n",
    "Date_count_set = set(Date_lists)\r\n",
    "Date_count_list = list()\r\n",
    "for k in Date_count_set:\r\n",
    "    Date_count_list.append((k,Date_lists.count(k)))\r\n",
    "print (Date_count_list)\r\n",
    "Date_count = pd.DataFrame(Date_count_list)\r\n",
    "Date_count['SMA_5'] = Date_count[1].rolling(5).mean()\r\n",
    "\r\n",
    "plt.style.use('seaborn')\r\n",
    "plt.figure(figsize = (10,8))\r\n",
    "Date_line, = plt.plot(Date_count[0],Date_count[1],'--',marker = 'o')\r\n",
    "Moving_line, = plt.plot(Date_count[0],Date_count['SMA_5'],'r')\r\n",
    "plt.ylabel('Uber Frequency',size = 20)\r\n",
    "plt.xlabel('Date of May',size = 20)\r\n",
    "plt.title('Statistics of Uber Driving Count/Frequency in May',size = 20)\r\n",
    "plt.axis([0,31,0,40000])\r\n",
    "plt.xticks(Date_count[0], fontsize=9)\r\n",
    "plt.legend(loc='best',handles=[Date_line,Moving_line],labels=['Daily Frequency','Five Days Moving Average'])\r\n",
    "plt.tight_layout()"
   ],
   "outputs": [],
   "metadata": {}
  },
  {
   "cell_type": "markdown",
   "source": [
    "The 5-day average feedback showed that the usage of Uber in the middle of the month was lower than that in the beginning of the month, but the usage of Uber at the end of the month was greatly improved. We continue to rank daily usage. "
   ],
   "metadata": {}
  },
  {
   "cell_type": "code",
   "execution_count": null,
   "source": [
    "Date_count = Date_count.fillna(0)\r\n",
    "Date_count.sort_values(by = 1,ascending = False).head(5)"
   ],
   "outputs": [],
   "metadata": {}
  },
  {
   "cell_type": "markdown",
   "source": [
    "Less frequent using Uber of days in the middle of the month"
   ],
   "metadata": {}
  },
  {
   "cell_type": "code",
   "execution_count": null,
   "source": [
    "Date_count.sort_values(by = 1).head(5)"
   ],
   "outputs": [],
   "metadata": {}
  },
  {
   "cell_type": "markdown",
   "source": [
    "# b. Uber Hourly statistics"
   ],
   "metadata": {}
  },
  {
   "cell_type": "markdown",
   "source": [
    "Uber frequencies should be higher in the morning and evening hours, so we draw a time-based frequency histogram."
   ],
   "metadata": {}
  },
  {
   "cell_type": "code",
   "execution_count": null,
   "source": [
    "Hour_count = uber_df['Hour']\r\n",
    "Hour_count.hist(bins=24, figsize=(10,8),range= (0,24),color = '#87CEFA')\r\n",
    "plt.xticks(range(1,25))\r\n",
    "\r\n",
    "def counts(i):\r\n",
    "    return len(i)\r\n",
    "Hour = uber_df.groupby('Hour').apply(counts)\r\n",
    "plt.axhline(y = Hour.mean(), color='r')\r\n",
    "plt.plot(Hour,marker= 'o',color = 'b')\r\n",
    "plt.ylabel('Uber Hour Frequency',size = 20)\r\n",
    "plt.xlabel('Hour',size = 20)\r\n",
    "plt.title('Statistics of Uber Driving Count/Frequency by Hour',size = 20)\r\n",
    "plt.tight_layout()"
   ],
   "outputs": [],
   "metadata": {
    "scrolled": false
   }
  },
  {
   "cell_type": "markdown",
   "source": [
    "The use of vehicles from 4 p.m. to 9 p.m. is significantly higher than usual, which also confirms our conjecture."
   ],
   "metadata": {}
  },
  {
   "cell_type": "markdown",
   "source": [
    "# c. Weekday Uber Frequency"
   ],
   "metadata": {}
  },
  {
   "cell_type": "markdown",
   "source": [
    "We also need to look at weekly usage. Uber usage on weekdays from Monday to Friday is significantly higher than on weekends, which indicates that people tend to use more Uber on commutes and on weekends they may prefer to drive by themselves."
   ],
   "metadata": {}
  },
  {
   "cell_type": "code",
   "execution_count": null,
   "source": [
    "uber_df.loc[uber_df['Weekday'] == 0,'Weekday']=7\r\n",
    "\r\n",
    "Weekday_count = uber_df['Weekday']\r\n",
    "Weekday_count.hist(bins=7, figsize=(10,8),range= (1,8),color = 'orange')\r\n",
    "plt.xticks(range(1,8))\r\n",
    "\r\n",
    "Weekday = uber_df.groupby('Weekday').apply(counts)\r\n",
    "plt.axhline(y = Weekday.mean(), color='r')\r\n",
    "plt.plot(Weekday,marker= 'o',color = 'b')\r\n",
    "plt.ylabel('Uber Weekday Frequency',size = 20)\r\n",
    "plt.xlabel('Weekday',size = 20)\r\n",
    "plt.title('Statistics of Uber Driving Count/Frequency by Weekday',size = 20)\r\n",
    "plt.tight_layout()"
   ],
   "outputs": [],
   "metadata": {}
  },
  {
   "cell_type": "markdown",
   "source": [
    "# d. Heat map of hour Uber Picking up in everyday"
   ],
   "metadata": {}
  },
  {
   "cell_type": "markdown",
   "source": [
    "Finally, for the analysis of time, we separated the working day and time to draw a thermogram to see the Uber usage per hour per day."
   ],
   "metadata": {}
  },
  {
   "cell_type": "code",
   "execution_count": null,
   "source": [
    "Corr_data = uber_df.groupby('Weekday Hour'.split()).apply(counts).unstack()\r\n",
    "Corr_data"
   ],
   "outputs": [],
   "metadata": {}
  },
  {
   "cell_type": "code",
   "execution_count": null,
   "source": [
    "plt.figure(figsize =(10,8))\r\n",
    "sns.heatmap(Corr_data)\r\n",
    "plt.title('The Heat Map of weekly and hour uber frequency',size =20)\r\n",
    "plt.text(0,8,'The lighter the colour means the more times of uber riding',size =18)\r\n",
    "plt.tight_layout()"
   ],
   "outputs": [],
   "metadata": {}
  },
  {
   "cell_type": "markdown",
   "source": [
    "# e. Uber Analysis based on Base"
   ],
   "metadata": {}
  },
  {
   "cell_type": "markdown",
   "source": [
    "Organize and sort Base data"
   ],
   "metadata": {}
  },
  {
   "cell_type": "code",
   "execution_count": null,
   "source": [
    "Base_data = pd.DataFrame(uber_df.groupby('Base').apply(counts))\r\n",
    "Base_data.sort_values(by = 0)"
   ],
   "outputs": [],
   "metadata": {}
  },
  {
   "cell_type": "markdown",
   "source": [
    "Draw a frequency histogram in the order of Base addresses to see which area has more Uber usage"
   ],
   "metadata": {}
  },
  {
   "cell_type": "code",
   "execution_count": null,
   "source": [
    "plt.figure(figsize=(10, 8))\r\n",
    "plt.bar(Base_data.index,Base_data[0],label ='Frequency',color ='#87CEFA')\r\n",
    "plt.xlabel('Base')\r\n",
    "plt.ylabel('Frequency')\r\n",
    "plt.title('Statistics of Uber Driving Count/Frequency by Base')\r\n",
    "plt.legend(loc=\"upper right\")\r\n",
    "plt.tight_layout()"
   ],
   "outputs": [],
   "metadata": {}
  },
  {
   "cell_type": "markdown",
   "source": [
    "#### Create a heatmap shows that in weekdays, different bases have different characteristics."
   ],
   "metadata": {}
  },
  {
   "cell_type": "code",
   "execution_count": null,
   "source": [
    "Base1 = uber_df.groupby('Base Weekday'.split()).apply(counts).unstack()\r\n",
    "Base1"
   ],
   "outputs": [],
   "metadata": {}
  },
  {
   "cell_type": "code",
   "execution_count": null,
   "source": [
    "plt.figure(figsize =(10,8))\r\n",
    "sns.heatmap(Base1)\r\n",
    "plt.title('The Heat Map of Uber using during weekdays in different Bases',size =20)\r\n",
    "plt.tight_layout()"
   ],
   "outputs": [],
   "metadata": {}
  },
  {
   "cell_type": "markdown",
   "source": [
    "# e. Uber Analysis based on Location"
   ],
   "metadata": {}
  },
  {
   "cell_type": "markdown",
   "source": [
    "Latitude and longitude are angles that uniquely define points on a sphere. Together, the angles comprise a coordinate scheme that can locate or identify geographic positions on the surfaces of planets such as the earth."
   ],
   "metadata": {}
  },
  {
   "cell_type": "markdown",
   "source": [
    "# Uber Ride Longitude Line Graph - May 2014"
   ],
   "metadata": {}
  },
  {
   "cell_type": "code",
   "execution_count": null,
   "source": [
    "plt.hist(uber_df['Lon'], bins = 100, range = (-74.2,-73.84), color = \"Purple\", alpha = 0.7)\r\n",
    "plt.xlabel('Longitude', size = 25)\r\n",
    "plt.ylabel('Frequency', size = 25)\r\n",
    "plt.xticks(size = 15)\r\n",
    "plt.yticks(size = 20)\r\n",
    "plt.title('Uber Ride Longitude Histgram - May 2014', size = 30)\r\n",
    ";"
   ],
   "outputs": [],
   "metadata": {}
  },
  {
   "cell_type": "markdown",
   "source": [
    "# Uber Ride Latitude Line Graph - May 2014         "
   ],
   "metadata": {}
  },
  {
   "cell_type": "code",
   "execution_count": null,
   "source": [
    "plt.hist(uber_df['Lat'], bins = 100, range = (40.57, 40.92), color = \"Red\", alpha = 0.7)\r\n",
    "plt.xlabel('Latitude', size = 25)\r\n",
    "plt.ylabel('Frequency', size = 25)\r\n",
    "plt.xticks(size = 15)\r\n",
    "plt.yticks(size = 20)\r\n",
    "plt.title('Uber Ride Latitude Histgram - May 2014', size = 30)\r\n",
    ";"
   ],
   "outputs": [],
   "metadata": {
    "scrolled": false
   }
  },
  {
   "cell_type": "markdown",
   "source": [
    "# Uber Ride Longitude and latitude Line Graph - May 2014         \r\n",
    "#### Drawing latitude and longitude into a graph can better highlight the relationship between the two.Drawing latitude and longitude into a graph can better highlight the relationship between the two. The deviation of Latitude is negative; the deviation of longtitude is positive."
   ],
   "metadata": {}
  },
  {
   "cell_type": "code",
   "execution_count": null,
   "source": [
    "plt.hist(uber_df['Lat'], bins = 100, range = (40.57, 40.92), rwidth = 1, color = \"Red\", alpha = 0.7, label = 'Latitude')\r\n",
    "plt.xlabel(\"Latitude\", size = 20)\r\n",
    "plt.xticks(size = 15)\r\n",
    "plt.yticks(size = 20)\r\n",
    "plt.legend(loc=\"upper left\")\r\n",
    "plt.twiny()\r\n",
    "plt.hist(uber_df['Lon'], bins = 100, range = (-74.2,-73.84), rwidth = 1, color = \"Purple\", alpha = 0.7, label = 'Longitude')\r\n",
    "plt.xlabel(\"Longitude\", size = 20)\r\n",
    "plt.xticks(size = 15)\r\n",
    "plt.legend(loc=\"upper right\")\r\n",
    ";"
   ],
   "outputs": [],
   "metadata": {}
  },
  {
   "cell_type": "markdown",
   "source": [
    "#### Finaly, we use latitude and longitude as the horizontal and vertical coordinates to roughly draw the map used by Uber in Manhattan. Interestingly, this map is basically a brief version of the map of Manhattan, which also reflects the Uber usage in this area can well indicate the degree of urban development."
   ],
   "metadata": {}
  },
  {
   "cell_type": "markdown",
   "source": [
    "As most of the locations are concentrated in a small area at the lower left, we draw that small area separately."
   ],
   "metadata": {}
  },
  {
   "cell_type": "code",
   "execution_count": null,
   "source": [
    "plt.figure(figsize = (12,10))\r\n",
    "plt.plot(uber_df['Lon'], uber_df['Lat'],'.',ms =1, alpha = 0.7)\r\n",
    "plt.xlim(-74.2, -73.82)\r\n",
    "plt.ylim(40.57, 40.92)\r\n",
    "plt.xlabel('Longitude', size = 20)\r\n",
    "plt.ylabel('Latitude', size = 20)\r\n",
    "plt.xticks(size = 20)\r\n",
    "plt.yticks(size = 20)\r\n",
    "plt.title('Uber picking up plot in Manhttan(Location)', size = 20)\r\n"
   ],
   "outputs": [],
   "metadata": {}
  },
  {
   "cell_type": "markdown",
   "source": [
    "#### hexbin diagram （test）"
   ],
   "metadata": {}
  },
  {
   "cell_type": "code",
   "execution_count": null,
   "source": [
    "plt.figure(figsize = (12,10))\r\n",
    "x = uber_df['Lon']\r\n",
    "y = uber_df['Lat']\r\n",
    "plt.hexbin(x, y, gridsize = 500, cmap ='BuGn')  \r\n",
    "plt.xlim(-74.2, -73.82)\r\n",
    "plt.ylim(40.57, 40.92)\r\n",
    "plt.xlabel('Longitude', size = 20)\r\n",
    "plt.ylabel('Latitude', size = 20)\r\n",
    "plt.xticks(size = 20)\r\n",
    "plt.yticks(size = 20)\r\n",
    "plt.title('Uber picking up hexbin diagram in Manhttan(Location)', size = 20)"
   ],
   "outputs": [],
   "metadata": {}
  },
  {
   "cell_type": "markdown",
   "source": [
    "# Thank you！"
   ],
   "metadata": {}
  }
 ],
 "metadata": {
  "kernelspec": {
   "name": "python3",
   "display_name": "Python 3.8.8 64-bit ('base': conda)"
  },
  "language_info": {
   "codemirror_mode": {
    "name": "ipython",
    "version": 3
   },
   "file_extension": ".py",
   "mimetype": "text/x-python",
   "name": "python",
   "nbconvert_exporter": "python",
   "pygments_lexer": "ipython3",
   "version": "3.8.8"
  },
  "interpreter": {
   "hash": "b3ba2566441a7c06988d0923437866b63cedc61552a5af99d1f4fb67d367b25f"
  }
 },
 "nbformat": 4,
 "nbformat_minor": 2
}